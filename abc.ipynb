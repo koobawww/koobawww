{
  "cells": [
    {
      "cell_type": "markdown",
      "metadata": {
        "id": "view-in-github",
        "colab_type": "text"
      },
      "source": [
        "<a href=\"https://colab.research.google.com/github/zhoujiuzhou9/tensorFlow/blob/main/notebooks/colab-github-demo.ipynb\" target=\"_parent\"><img src=\"https://colab.research.google.com/assets/colab-badge.svg\" alt=\"Open In Colab\"/></a>"
      ]
    },
    {
      "cell_type": "code",
      "source": [
        "import numpy as np\n",
        "import pandas as pd\n",
        "import matplotlib.pyplot as plt"
      ],
      "metadata": {
        "id": "Vb9LN9lbkaOs"
      },
      "execution_count": 1,
      "outputs": []
    },
    {
      "cell_type": "code",
      "source": [
        "a = np.arange(5)\n",
        "print(a)\n",
        "print(a <= 3)"
      ],
      "metadata": {
        "id": "fkScwsUao_G_",
        "outputId": "e7378453-9487-492e-9266-a46ada868502",
        "colab": {
          "base_uri": "https://localhost:8080/"
        }
      },
      "execution_count": 5,
      "outputs": [
        {
          "output_type": "stream",
          "name": "stdout",
          "text": [
            "[0 1 2 3 4]\n",
            "[ True  True  True  True False]\n"
          ]
        }
      ]
    },
    {
      "cell_type": "code",
      "source": [
        "x_points=np.array([0,10])\n",
        "y_points=np.array([0,200])\n",
        "\n",
        "plt.plot(x_points,y_points)"
      ],
      "metadata": {
        "id": "e995xIq7keDj",
        "outputId": "96e9ae77-2866-480a-dedf-9bacaef1f2c6",
        "colab": {
          "base_uri": "https://localhost:8080/",
          "height": 283
        }
      },
      "execution_count": 2,
      "outputs": [
        {
          "output_type": "execute_result",
          "data": {
            "text/plain": [
              "[<matplotlib.lines.Line2D at 0x7f2721de2f10>]"
            ]
          },
          "metadata": {},
          "execution_count": 2
        },
        {
          "output_type": "display_data",
          "data": {
            "text/plain": [
              "<Figure size 432x288 with 1 Axes>"
            ],
            "image/png": "[encoded data removed]"
          },
          "metadata": {
            "needs_background": "light"
          }
        }
      ]
    },
    {
      "cell_type": "code",
      "source": [
        "import tensorflow as tf\n",
        "\n",
        "# '/test_file_1.txt' 内容为两行：1,2,3 和 4，5，6\n",
        "# tf.train.string_input_producer 创建文件名称队列，返回队列对象，并自动创建了 QueueRunner\n",
        "filename_queue = tf.train.string_input_producer(['test_file_1.txt'])\n",
        "\n",
        "# 创建 tf.TextLineReader() 对象\n",
        "reader = tf.TextLineReader()\n",
        "# read函数将Queue作为输入， 输出为key和value，key为文件名， value为文件中的某一行\n",
        "key, value = reader.read(filename_queue)\n",
        "\n",
        "# 将读出来的每行数据，用逗号分隔开，并组成一个list\n",
        "value_arr = tf.string_split([value], ',')\n",
        "# 文件中读出来的数据是string格式，所以要转换成number格式\n",
        "value_arr = tf.string_to_number(value_arr.values, out_type=tf.int64)\n",
        "\n",
        "with tf.Session() as sess:\n",
        "\t# 生成线程管理对象\n",
        "    coord = tf.train.Coordinator()\n",
        "\n",
        "    # 启动计算图中所有的队列线程\n",
        "    threads = tf.train.start_queue_runners(coord=coord)\n",
        "\n",
        "    for i in range(6):\n",
        "        features = sess.run(value_arr)\n",
        "        print(features)\n",
        "        \n",
        "    coord.request_stop()\n",
        "    coord.join(threads)\n",
        "\n",
        "# 输出为：\n",
        "# [1 2 3]\n",
        "# [4 5 6]\n",
        "# [1 2 3]\n",
        "# [4 5 6]\n",
        "# [1 2 3]\n",
        "# [4 5 6]\n",
        "\n",
        "\n"
      ],
      "metadata": {
        "id": "FS06AfO-trJ8"
      },
      "execution_count": null,
      "outputs": []
    },
    {
      "cell_type": "code",
      "source": [
        "import tensorflow as tf\n",
        "\n",
        "# '/test_file_1.txt' 内容为两行：1,2,3 和 4，5，6\n",
        "# '/test_file_2.txt' 内容为两行：7,8,9 和 10，11，12\n",
        "file_ist = ['/test_file_1.txt', '/test_file_2.txt']\n",
        "\n",
        "# string_input_producer 会产生一个文件名队列\n",
        "filename_queue = tf.train.string_input_producer(file_ist, shuffle=False, num_epochs=2)\n",
        "\n",
        "# reader从文件名队列中读数据, 对应的方法是reader.read()\n",
        "reader = tf.WholeFileReader()\n",
        "key_tf, value_tf = reader.read(filename_queue)\n",
        "\n",
        "with tf.Session() as sess:\n",
        "\tcoord = tf.train.Coordinator()\n",
        "\n",
        "\t# tf.train.string_input_producer定义了一个epoch变量，要对它进行初始化\n",
        "    sess.run(tf.local_variables_initializer())\n",
        "    \n",
        "\t# start_queue_runners启动线程之后，才会开始填充队列\n",
        "    tf.train.start_queue_runners(sess=sess)\n",
        "\n",
        "    for i in range(4):\n",
        "        key, value = sess.run([key_tf, value_tf])\n",
        "        print('\\n', 'key:', key)\n",
        "        print('value:', value)\n",
        "        print('value.decode(): \\n', value.decode())\n",
        "        \n",
        "    coord.request_stop()\n",
        "    coord.join(threads)\n",
        "\n",
        "# 输出为：\n",
        "#  key: b'/Users/manmi/Documents/GitHub/tensorflow/test_file_1.txt'\n",
        "# value: b'1,2,3\\n4,5,6'\n",
        "# value.decode(): \n",
        "#  1,2,3\n",
        "# 4,5,6\n",
        "# \n",
        "#  key: b'/Users/manmi/Documents/GitHub/tensorflow/test_file_2.txt'\n",
        "# value: b'7,8,9\\n10,11,12'\n",
        "# value.decode(): \n",
        "#  7,8,9\n",
        "# 10,11,12\n",
        "# \n",
        "#  key: b'/Users/manmi/Documents/GitHub/tensorflow/test_file_1.txt'\n",
        "# value: b'1,2,3\\n4,5,6'\n",
        "# value.decode(): \n",
        "#  1,2,3\n",
        "# 4,5,6\n",
        "# \n",
        "#  key: b'/Users/manmi/Documents/GitHub/tensorflow/test_file_2.txt'\n",
        "# value: b'7,8,9\\n10,11,12'\n",
        "# value.decode(): \n",
        "#  7,8,9\n",
        "# 10,11,12\n",
        "\n"
      ],
      "metadata": {
        "id": "kX_fFvZott9D"
      },
      "execution_count": null,
      "outputs": []
    }
  ],
  "metadata": {
    "colab": {
      "collapsed_sections": [],
      "name": "colab-github-demo.ipynb",
      "provenance": [],
      "include_colab_link": true
    },
    "kernelspec": {
      "display_name": "Python 3",
      "name": "python3"
    }
  },
  "nbformat": 4,
  "nbformat_minor": 0
}
